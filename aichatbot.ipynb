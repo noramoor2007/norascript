# This is an AI chatbot
import nbformat

with open('path/to/notebook.ipynb', 'r') as f:
    nb = nbformat.read(f, as_version=4)

with open('path/to/fixed_notebook.ipynb', 'w') as f:
    nbformat.write(nb, f)
